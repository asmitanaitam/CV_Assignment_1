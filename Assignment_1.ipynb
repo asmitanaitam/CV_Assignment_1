{
 "cells": [
  {
   "cell_type": "markdown",
   "metadata": {},
   "source": [
    "### Question_1\n"
   ]
  },
  {
   "cell_type": "markdown",
   "metadata": {},
   "source": [
    "1. Report the calibration matrix for the camera chosen and verify (using an example) the same."
   ]
  },
  {
   "cell_type": "code",
   "execution_count": 2,
   "metadata": {},
   "outputs": [],
   "source": [
    "import cv2\n",
    "import numpy as np\n",
    "\n",
    "# Load image\n",
    "img = cv2.imread('img_5.jpg')\n",
    "gray = cv2.cvtColor(img, cv2.COLOR_BGR2GRAY)\n",
    "\n",
    "# Find the chess board corners\n",
    "ret, corners = cv2.findChessboardCorners(gray, (7,6), None)  # Adjust the (7,6) based on your chessboard\n",
    "\n",
    "# If found, add object points, image points\n",
    "if ret == True:\n",
    "    cv2.drawChessboardCorners(img, (7,6), corners, ret)\n",
    "    cv2.imshow('img', img)\n",
    "    cv2.waitKey(500)\n"
   ]
  },
  {
   "cell_type": "code",
   "execution_count": 4,
   "metadata": {},
   "outputs": [],
   "source": [
    "import numpy as np\n",
    "import cv2\n",
    "import glob\n",
    "\n",
    "# Termination criteria for corner refinement\n",
    "criteria = (cv2.TERM_CRITERIA_EPS + cv2.TERM_CRITERIA_MAX_ITER, 30, 0.001)\n",
    "\n",
    "chessboard_size = (7, 6)\n",
    "square_size = 25  \n",
    "objp = np.zeros((chessboard_size[0]*chessboard_size[1], 3), np.float32)\n",
    "objp[:,:2] = np.mgrid[0:chessboard_size[0], 0:chessboard_size[1]].T.reshape(-1, 2) * square_size\n",
    "\n",
    "# Arrays to store object points and image points from all images.\n",
    "object_points = []  # 3d points in real world space\n",
    "image_points = []  # 2d points in image plane.\n",
    "\n",
    "# Read images\n",
    "images = glob.glob('E:\\GSU\\Course Work\\Computer Vision\\Assignment_1\\images\\*.jpg')  # Adjust the path to where your images are stored\n",
    "\n",
    "for fname in images:\n",
    "    img = cv2.imread(fname)\n",
    "    gray = cv2.cvtColor(img, cv2.COLOR_BGR2GRAY)\n",
    "\n",
    "    # Find the chess board corners\n",
    "    ret, corners = cv2.findChessboardCorners(gray, chessboard_size, None)\n",
    "\n",
    "    # If found, add object points, image points\n",
    "    if ret == True:\n",
    "        object_points.append(objp)\n",
    "\n",
    "        # Refine the corner positions\n",
    "        corners2 = cv2.cornerSubPix(gray, corners, (11,11), (-1,-1), criteria)\n",
    "        image_points.append(corners2)\n",
    "\n",
    "        # Draw and display the corners\n",
    "        img = cv2.drawChessboardCorners(img, chessboard_size, corners2, ret)\n",
    "        cv2.imshow('img', img)\n",
    "        cv2.waitKey(500)\n",
    "\n",
    "cv2.destroyAllWindows()\n"
   ]
  },
  {
   "cell_type": "code",
   "execution_count": 5,
   "metadata": {},
   "outputs": [],
   "source": [
    "# Assuming object_points and image_points are collected from all images\n",
    "ret, mtx, dist, rvecs, tvecs = cv2.calibrateCamera(object_points, image_points, gray.shape[::-1], None, None)\n"
   ]
  },
  {
   "cell_type": "code",
   "execution_count": 6,
   "metadata": {},
   "outputs": [
    {
     "name": "stdout",
     "output_type": "stream",
     "text": [
      "Camera matrix:\n",
      " [[766.36635508   0.         341.1906271 ]\n",
      " [  0.         764.59455126 246.10584627]\n",
      " [  0.           0.           1.        ]]\n",
      "Reprojection error: 0.09827432309312015\n"
     ]
    }
   ],
   "source": [
    "print(\"Camera matrix:\\n\", mtx)\n",
    "\n",
    "# Verification by re-projecting points\n",
    "example_img = image_points[0]  \n",
    "example_objp = object_points[0]\n",
    "_, rvec, tvec = cv2.solvePnP(example_objp, example_img, mtx, dist)\n",
    "projected_img_points, _ = cv2.projectPoints(example_objp, rvec, tvec, mtx, dist)\n",
    "\n",
    "# Calculate and print error\n",
    "error = cv2.norm(example_img, projected_img_points, cv2.NORM_L2) / len(projected_img_points)\n",
    "print(\"Reprojection error:\", error)\n"
   ]
  },
  {
   "cell_type": "markdown",
   "metadata": {},
   "source": [
    "### Question_2\n"
   ]
  },
  {
   "cell_type": "markdown",
   "metadata": {},
   "source": [
    "2. Point the camera to a chessboard pattern or any known set of reference points that lie on the\n",
    "same plane. Capture a series of 10 images by changing the orientation of the camera in each\n",
    "iteration. Select any 1 image, and using the image formation pipeline equation, set up the linear\n",
    "equations in matrix form and solve for intrinsic and extrinsic parameters (extrinsic for that\n",
    "particular orientation). You will need to make measurements of the actual 3D world points, and\n",
    "mark pixel coordinates. Once you compute the Rotation matrix, you also need to compute the\n",
    "angles of rotation along each axis. Choose your order of rotation based on your experimentation\n",
    "setup."
   ]
  },
  {
   "cell_type": "code",
   "execution_count": 15,
   "metadata": {},
   "outputs": [
    {
     "name": "stdout",
     "output_type": "stream",
     "text": [
      "Rotation Angles: \n",
      " theta_x: -0.09284054434550042 \n",
      " theta_y: 0.06772383446126788 \n",
      " theta_z: 0.18612752910661196\n"
     ]
    }
   ],
   "source": [
    "import cv2\n",
    "import numpy as np\n",
    "\n",
    "# Load an image\n",
    "image = cv2.imread('img_5.jpg')\n",
    "gray = cv2.cvtColor(image, cv2.COLOR_BGR2GRAY)\n",
    "\n",
    "# Chessboard corners\n",
    "ret, corners = cv2.findChessboardCorners(gray, (7, 6), None)\n",
    "if ret:\n",
    "    corners2 = cv2.cornerSubPix(gray, corners, (11, 11), (-1, -1), criteria)\n",
    "\n",
    "objp = np.zeros((7*6, 3), np.float32)\n",
    "objp[:, :2] = np.mgrid[0:7, 0:6].T.reshape(-1, 2)\n",
    "\n",
    "# As intrinsic matrix K is calculated previously\n",
    "f_x = 766.36635508 #the focal length in terms of pixels along the x-axis.\n",
    "f_y = 764.59455126 #the focal length in terms of pixels along the y-axis.\n",
    "c_x = 341.1906271 #the x-coordinate of the principal point (optical center).\n",
    "c_y = 246.10584627 #the y-coordinate of the principal point (optical center).\n",
    "\n",
    "K = np.array([[f_x, 0, c_x], [0, f_y, c_y], [0, 0, 1]])  \n",
    "\n",
    "ret, rvec, tvec = cv2.solvePnP(objp, corners2, K, None)\n",
    "\n",
    "# Convert rotation vector to rotation matrix\n",
    "R, _ = cv2.Rodrigues(rvec)\n",
    "\n",
    "# Calculate Euler angles from R\n",
    "theta_x = np.arctan2(R[2,1], R[2,2])\n",
    "theta_y = np.arctan2(-R[2,0], np.sqrt(R[2,1]**2 + R[2,2]**2))\n",
    "theta_z = np.arctan2(R[1,0], R[0,0])\n",
    "\n",
    "print(\"Rotation Angles: \\n\", \"theta_x:\", theta_x, \"\\n theta_y:\",theta_y, \"\\n theta_z:\", theta_z)\n"
   ]
  },
  {
   "cell_type": "markdown",
   "metadata": {},
   "source": [
    "### Question_3\n"
   ]
  },
  {
   "cell_type": "markdown",
   "metadata": {},
   "source": [
    "3. Write a script to find the real world dimensions (e.g. diameter of a ball, side length of a cube)\n",
    "of an object using perspective projection equations. Validate using an experiment where you\n",
    "image an object using your camera from a specific distance (choose any distance but ensure you\n",
    "are able to measure it accurately) between the object and camera."
   ]
  },
  {
   "cell_type": "code",
   "execution_count": 16,
   "metadata": {},
   "outputs": [
    {
     "name": "stdout",
     "output_type": "stream",
     "text": [
      "Real World Dimensions: Width = 260.973954799311 mm, Height = 260.973954799311 mm\n"
     ]
    }
   ],
   "source": [
    "import cv2\n",
    "import numpy as np\n",
    "\n",
    "def calculate_real_world_dimension(pixel_width, pixel_height, known_distance, focal_length):\n",
    "    \"\"\"\n",
    "    Calculate the real-world dimensions of an object from its image dimensions.\n",
    "    \n",
    "    :param pixel_width: Width of the object in pixels\n",
    "    :param pixel_height: Height of the object in pixels\n",
    "    :param known_distance: Distance from camera to object (mm)\n",
    "    :param focal_length: Focal length of the camera (mm)\n",
    "    :return: Real world width and height of the object (mm)\n",
    "    \"\"\"\n",
    "    real_width = (pixel_width * known_distance) / focal_length\n",
    "    real_height = (pixel_height * known_distance) / focal_length\n",
    "    return real_width, real_height\n",
    "\n",
    "# Load the image\n",
    "image = cv2.imread('img_5.jpg')\n",
    "gray = cv2.cvtColor(image, cv2.COLOR_BGR2GRAY)\n",
    "\n",
    "# Placeholder values for bounding box coordinates \n",
    "x1, y1 = 100, 150\n",
    "x2, y2 = 300, 350\n",
    "\n",
    "# Calculate pixel dimensions\n",
    "pixel_width = abs(x2 - x1)\n",
    "pixel_height = abs(y2 - y1)\n",
    "\n",
    "# Known parameters \n",
    "known_distance = 1000  # mm\n",
    "focal_length = 766.36  # mm, using f_x from camera matrix\n",
    "\n",
    "# Calculate real world dimensions\n",
    "real_width, real_height = calculate_real_world_dimension(pixel_width, pixel_height, known_distance, focal_length)\n",
    "print(f\"Real World Dimensions: Width = {real_width} mm, Height = {real_height} mm\")\n"
   ]
  },
  {
   "cell_type": "markdown",
   "metadata": {},
   "source": [
    "### Question_4"
   ]
  },
  {
   "cell_type": "markdown",
   "metadata": {},
   "source": [
    "4. Write an application – must run as a Web application on a browser and be OS agnostic – that\n",
    "implements the solution for problem (3) [An application that can compute real-world dimensions\n",
    "of an object in view]. Make justifiable assumptions (e.g. points of interest on the object can be\n",
    "found by clicking on the view or touching on the screen)."
   ]
  },
  {
   "cell_type": "code",
   "execution_count": null,
   "metadata": {},
   "outputs": [],
   "source": []
  }
 ],
 "metadata": {
  "kernelspec": {
   "display_name": "Python 3",
   "language": "python",
   "name": "python3"
  },
  "language_info": {
   "codemirror_mode": {
    "name": "ipython",
    "version": 3
   },
   "file_extension": ".py",
   "mimetype": "text/x-python",
   "name": "python",
   "nbconvert_exporter": "python",
   "pygments_lexer": "ipython3",
   "version": "3.8.5"
  }
 },
 "nbformat": 4,
 "nbformat_minor": 4
}
